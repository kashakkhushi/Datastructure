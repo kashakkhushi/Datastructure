{
  "nbformat": 4,
  "nbformat_minor": 0,
  "metadata": {
    "colab": {
      "provenance": []
    },
    "kernelspec": {
      "name": "python3",
      "display_name": "Python 3"
    },
    "language_info": {
      "name": "python"
    }
  },
  "cells": [
    {
      "cell_type": "markdown",
      "source": [
        "#THEORY QUESTIONS\n",
        "Q1. What are data structures, and why are they important?                       \n",
        "Answer: Data structures are way of organising ,managing and storing data so that it can be accessed and manipulated  efficiently.                                        \n",
        "Data structures helps to store and find information quickly.It also helps in solving complex problems.                                                      \n",
        "\n",
        "Q2.Explain the difference between mutable and immutable data types with examples.                                                                      \n",
        "Answer: Mutable data types are the ones that can be changed even after creation.Some examples of mutable data types  are list,set and so on.                     \n",
        "Immutable data types on the other are the ones that cannot be changes after creation.Example of an immutable data type is a tuple.                         \n",
        "\n",
        "Q3.What are the main differences between lists and tuples in Python?            \n",
        "Answer:Differences between lists and tuples are:                                \n",
        "i)List uses square brackets.                                                    \n",
        "   Tuple uses paranthesis.                                                      \n",
        "ii)Lists are mutable whereas tuples are immutable.                             \n",
        "\n",
        "Q4.Describe how dictionaries store data.                                        \n",
        "Answer: Dictionaries store the data in key value pairs.Dictionaries are mutable in python.                                                                      \n",
        "\n",
        "Q5.Why might you use a set instead of a list in Python?                         \n",
        "Answer: Sets are sometimes preferred to be use instead of a list in python because of its feature of having unique elements. It does not allow duplicate elements. Sets are mutable but it can get immutable by using frozen set.       \n",
        "\n",
        "Q6. What is a string in Python, and how is it different from a list?            \n",
        "Answer: String is a data type which contains a sequence of characters.          \n",
        "String is a homogenous data type which means it only contains characters whereas list on the other hand is a heterogenous data structure which can contain any data types. Strings are immutable and lists are mutable.            \n",
        "\n",
        "Q7.How do tuples ensure data integrity in Python?                               \n",
        "Answer: Tuple is an ordered collection of elements that can be of any data types.Tuple ensures data integrity by being a immutable data type which means it cannot be changes after creation.                                            \n",
        "\n",
        "Q8. What is a hash table, and how does it relate to dictionaries in Python?     \n",
        "Answer: Hash table is a data structure which stores data in a way that allows for insertion and deletion.Hash table and dictionaries both stores the data in a key value pair.                                                               \n",
        "\n",
        "Q9. Can lists contain different data types in Python?                           \n",
        "Answer: List is a heterogenous data structure and hence can contain different data types in python.                                                           \n",
        "\n",
        "Q10. Explain why strings are immutable in Python?\n",
        "Answer: Strings are immutable and thus allowing multiple variables to store the same string object. Because it is immutable it can be used as key in dictionaries and elements in set.                                               \n",
        "\n",
        "Q11. What advantages do dictionaries offer over lists for certain tasks?        \n",
        "Answer: The values of the dictionaries can be accessed using keys.Dictionaries stores the data in key value pair. On the other list elements can only be accessed using indices. For eg; for a restraunt menu dictionaries are used instead of lists                                                                \n",
        "\n",
        "Q12.Describe a scenario where using a tuple would be preferable over a list?    \n",
        "Answer: Imagine storing the aadhaar card number and name of the person, here tuple would be more preferable over a list because here you dont want to change the number or the person's name.                                                \n",
        "\n",
        "Q13. How do sets handle duplicate values in Python?                             \n",
        "Answer: Sets discard the duplicate values. If an element has 1 or more than 1 occurrences then only the first occurence of the element will be stored and the rest will get discarded.                                                        \n",
        "\n",
        "Q14.  How does the “in” keyword work differently for lists and dictionaries?    \n",
        "Answer: The \"in\" keyword checks whether an element exists in a list. The \"in\" keyword in dictionaries  checks whether a specific key exits or not.            \n",
        "\n",
        "Q15.Can you modify the elements of a tuple? Explain why or why not?             \n",
        "Answer: No, we cannot modify the elements in a tuple. Tuples are immutable and hence cannot be modify after creation.                                          \n",
        "\n",
        "Q16.What is a nested dictionary, and give an example of its use case?           \n",
        "Answer: Nested dictionary is a dictionary within a dictionary. Example of a nested dictionary would be a library record system containg book and its details.                                                                        \n",
        "\n",
        "Q17.Describe the time complexity of accessing elements in a dictionary.         \n",
        "Answer: Accessing elements in a dictionary is fast, with an average time complexity O(1), due to its hash table implementation.\n",
        "                                                                                \n",
        "\n",
        "Q18.In what situations are lists preferred over dictionaries?                   \n",
        "Answer: While adding items to a shopping cart lists are preferred over dictionaries.                                                                   \n",
        "\n",
        "Q19. Why are dictionaries considered unordered, and how does that affect data retrieval?                                                                      \n",
        "Answer: Dictionaries are unordered because their internal structure does not store elements in the sequence they are added. Dictionaries use hash table.One can access the elements by using key not by using index.Dictionaries donot support indexing.                                                               \n",
        "\n",
        "Q20.Explain the difference between a list and a dictionary in terms of data retrieval.                                                                     \n",
        "Answer: Elements of a list can be accessed by index. Elements of dictionaries can be accessed using key not by indexing.                                     "
      ],
      "metadata": {
        "id": "p_a5vfeoNLDC"
      }
    },
    {
      "cell_type": "markdown",
      "source": [
        "#Practical Questions"
      ],
      "metadata": {
        "id": "Hvxd-vpu7IZS"
      }
    },
    {
      "cell_type": "markdown",
      "source": [
        "Q1. Write a code to create a string with your name and print it."
      ],
      "metadata": {
        "id": "lqszzCkU7W8o"
      }
    },
    {
      "cell_type": "code",
      "source": [
        "name= input(\"Enter your name :\")\n",
        "print(\"My name is\",name)"
      ],
      "metadata": {
        "colab": {
          "base_uri": "https://localhost:8080/"
        },
        "id": "-AGpdN877dGQ",
        "outputId": "961506ec-986b-4bd0-d31a-6df0773d46d2"
      },
      "execution_count": 1,
      "outputs": [
        {
          "output_type": "stream",
          "name": "stdout",
          "text": [
            "Enter your name :Khushi Singh\n",
            "My name is Khushi Singh\n"
          ]
        }
      ]
    },
    {
      "cell_type": "markdown",
      "source": [
        "Q2.Write a code to find the length of the string \"Hello World.\""
      ],
      "metadata": {
        "id": "zYDDU12i7njK"
      }
    },
    {
      "cell_type": "code",
      "source": [
        "string1= \"Hello World.\"\n",
        "print(len(string1))"
      ],
      "metadata": {
        "colab": {
          "base_uri": "https://localhost:8080/"
        },
        "id": "rbdwRvUP7wms",
        "outputId": "2f86a47a-3278-48db-8762-bde57ded3875"
      },
      "execution_count": 2,
      "outputs": [
        {
          "output_type": "stream",
          "name": "stdout",
          "text": [
            "12\n"
          ]
        }
      ]
    },
    {
      "cell_type": "markdown",
      "source": [
        "Q3. Write a code to slice the first 3 characters from the string \"Python Programming\""
      ],
      "metadata": {
        "id": "9qR7JDoJ75RG"
      }
    },
    {
      "cell_type": "code",
      "source": [
        "str1= \"Python Programming\"\n",
        "print(str1[0:3])"
      ],
      "metadata": {
        "colab": {
          "base_uri": "https://localhost:8080/"
        },
        "id": "D4OoqUZS7-dL",
        "outputId": "0d096af7-1c10-45b7-f07b-e6f929ccbf12"
      },
      "execution_count": 3,
      "outputs": [
        {
          "output_type": "stream",
          "name": "stdout",
          "text": [
            "Pyt\n"
          ]
        }
      ]
    },
    {
      "cell_type": "markdown",
      "source": [
        "Q4.Write a code to convert the string \"hello\" to uppercase.\n"
      ],
      "metadata": {
        "id": "ceHKEtX08Hvr"
      }
    },
    {
      "cell_type": "code",
      "source": [
        "str1= \"hello\"\n",
        "print(str1.upper())"
      ],
      "metadata": {
        "colab": {
          "base_uri": "https://localhost:8080/"
        },
        "id": "W3rPe3EY8LPX",
        "outputId": "00de2cea-4de6-48ea-cc7a-969d2b9b9a18"
      },
      "execution_count": 4,
      "outputs": [
        {
          "output_type": "stream",
          "name": "stdout",
          "text": [
            "HELLO\n"
          ]
        }
      ]
    },
    {
      "cell_type": "markdown",
      "source": [
        "Q5. Write a code to replace the word \"apple\" with \"orange\" in the string \"I like apple\"."
      ],
      "metadata": {
        "id": "4GjNGuI68Qrz"
      }
    },
    {
      "cell_type": "code",
      "source": [
        "str1=\"I like apple\"\n",
        "str2=str1.replace(\"apple\",\"orange\")\n",
        "str2"
      ],
      "metadata": {
        "colab": {
          "base_uri": "https://localhost:8080/",
          "height": 35
        },
        "id": "A_xalSQZ8zvl",
        "outputId": "b10c8f94-68a3-44f8-a949-9430ec90ff12"
      },
      "execution_count": 7,
      "outputs": [
        {
          "output_type": "execute_result",
          "data": {
            "text/plain": [
              "'I like orange'"
            ],
            "application/vnd.google.colaboratory.intrinsic+json": {
              "type": "string"
            }
          },
          "metadata": {},
          "execution_count": 7
        }
      ]
    },
    {
      "cell_type": "markdown",
      "source": [
        "Q6.Write a code to create a list with numbers 1 to 5 and print it."
      ],
      "metadata": {
        "id": "NJVVME1V9Kl1"
      }
    },
    {
      "cell_type": "code",
      "source": [
        "L=[a for a in range(1,6)]\n",
        "L\n"
      ],
      "metadata": {
        "colab": {
          "base_uri": "https://localhost:8080/"
        },
        "id": "MeUHUAxx9P8_",
        "outputId": "a4792836-bbfa-4df3-bb3b-885b5953b15d"
      },
      "execution_count": 9,
      "outputs": [
        {
          "output_type": "execute_result",
          "data": {
            "text/plain": [
              "[1, 2, 3, 4, 5]"
            ]
          },
          "metadata": {},
          "execution_count": 9
        }
      ]
    },
    {
      "cell_type": "markdown",
      "source": [
        "Q7.Write a code to append the number 10 to the list [1, 2, 3, 4]."
      ],
      "metadata": {
        "id": "wD7uvrMx9bi3"
      }
    },
    {
      "cell_type": "code",
      "source": [
        "L=[1,2,3,4]\n",
        "L.append(10)\n",
        "L"
      ],
      "metadata": {
        "colab": {
          "base_uri": "https://localhost:8080/"
        },
        "id": "I4TYedCw9f07",
        "outputId": "85054712-8d10-4edb-d7b0-c7f49c97b827"
      },
      "execution_count": 10,
      "outputs": [
        {
          "output_type": "execute_result",
          "data": {
            "text/plain": [
              "[1, 2, 3, 4, 10]"
            ]
          },
          "metadata": {},
          "execution_count": 10
        }
      ]
    },
    {
      "cell_type": "markdown",
      "source": [
        "Q8. Write a code to remove the number 3 from the list [1, 2, 3, 4, 5]"
      ],
      "metadata": {
        "id": "OttSdyD09lfr"
      }
    },
    {
      "cell_type": "code",
      "source": [
        "L=[1,2,3,4,5]\n",
        "L.remove(3)\n",
        "L"
      ],
      "metadata": {
        "colab": {
          "base_uri": "https://localhost:8080/"
        },
        "id": "xoR8mDKJ9pRM",
        "outputId": "39b89852-a70c-433a-af52-3246215974d3"
      },
      "execution_count": 13,
      "outputs": [
        {
          "output_type": "execute_result",
          "data": {
            "text/plain": [
              "[1, 2, 4, 5]"
            ]
          },
          "metadata": {},
          "execution_count": 13
        }
      ]
    },
    {
      "cell_type": "markdown",
      "source": [
        "Q9.Write a code to access the second element in the list ['a', 'b', 'c', 'd']."
      ],
      "metadata": {
        "id": "HToi2Y-8938b"
      }
    },
    {
      "cell_type": "code",
      "source": [
        "L=['a','b','c','d']\n",
        "n=L.pop(1)\n",
        "n"
      ],
      "metadata": {
        "colab": {
          "base_uri": "https://localhost:8080/",
          "height": 35
        },
        "id": "-i4X9chm9_79",
        "outputId": "f3c97110-b0f5-4bc1-a2cd-bc1d794985b0"
      },
      "execution_count": 14,
      "outputs": [
        {
          "output_type": "execute_result",
          "data": {
            "text/plain": [
              "'b'"
            ],
            "application/vnd.google.colaboratory.intrinsic+json": {
              "type": "string"
            }
          },
          "metadata": {},
          "execution_count": 14
        }
      ]
    },
    {
      "cell_type": "markdown",
      "source": [
        "Q10.Write a code to reverse the list [10, 20, 30, 40, 50].\n"
      ],
      "metadata": {
        "id": "7zgcxFRb-Noa"
      }
    },
    {
      "cell_type": "code",
      "source": [
        "L=[10,20,30,40,50]\n",
        "print(L[::-1])"
      ],
      "metadata": {
        "colab": {
          "base_uri": "https://localhost:8080/"
        },
        "id": "-46c3YCw-R50",
        "outputId": "b2548e45-71d1-459a-8886-d8321dfd8460"
      },
      "execution_count": 17,
      "outputs": [
        {
          "output_type": "stream",
          "name": "stdout",
          "text": [
            "[50, 40, 30, 20, 10]\n"
          ]
        }
      ]
    },
    {
      "cell_type": "markdown",
      "source": [
        "Q11.Write a code to create a tuple with the elements 10, 20, 30 and print it."
      ],
      "metadata": {
        "id": "HVTrjl83-iZC"
      }
    },
    {
      "cell_type": "code",
      "source": [
        "T=(10,20,30)\n",
        "print(T)"
      ],
      "metadata": {
        "colab": {
          "base_uri": "https://localhost:8080/"
        },
        "id": "Ik8Udeof-nO8",
        "outputId": "b6cf8f3e-dc75-402b-c548-63af3b0847db"
      },
      "execution_count": 18,
      "outputs": [
        {
          "output_type": "stream",
          "name": "stdout",
          "text": [
            "(10, 20, 30)\n"
          ]
        }
      ]
    },
    {
      "cell_type": "markdown",
      "source": [
        "Q12. Write a code to access the first element of the tuple ('apple', 'banana', 'cherry')."
      ],
      "metadata": {
        "id": "p4BQzf1t-tjR"
      }
    },
    {
      "cell_type": "code",
      "source": [
        "T=('apple','banana','cherry')\n",
        "n=T[0]\n",
        "n"
      ],
      "metadata": {
        "colab": {
          "base_uri": "https://localhost:8080/",
          "height": 35
        },
        "id": "wzyKIfJB-yMs",
        "outputId": "7febb2be-7272-4397-df66-0e1f1ccf7415"
      },
      "execution_count": 19,
      "outputs": [
        {
          "output_type": "execute_result",
          "data": {
            "text/plain": [
              "'apple'"
            ],
            "application/vnd.google.colaboratory.intrinsic+json": {
              "type": "string"
            }
          },
          "metadata": {},
          "execution_count": 19
        }
      ]
    },
    {
      "cell_type": "markdown",
      "source": [
        "Q13. Write a code to count how many times the number 2 appears in the tuple (1, 2, 3, 2, 4, 2)."
      ],
      "metadata": {
        "id": "ECfYX4eL-8mv"
      }
    },
    {
      "cell_type": "code",
      "source": [
        "T=(1,2,3,2,4,2)\n",
        "n=T.count(2)\n",
        "n"
      ],
      "metadata": {
        "colab": {
          "base_uri": "https://localhost:8080/"
        },
        "id": "6Jm4z8n0_Eaf",
        "outputId": "b3ef3500-8a27-4bc3-d5ff-84bb04a92d32"
      },
      "execution_count": 20,
      "outputs": [
        {
          "output_type": "execute_result",
          "data": {
            "text/plain": [
              "3"
            ]
          },
          "metadata": {},
          "execution_count": 20
        }
      ]
    },
    {
      "cell_type": "markdown",
      "source": [
        "Q14.Write a code to find the index of the element \"cat\" in the tuple ('dog', 'cat', 'rabbit')."
      ],
      "metadata": {
        "id": "mGs_qtYe_RdZ"
      }
    },
    {
      "cell_type": "code",
      "source": [
        "T=('dog','cat','rabbit')\n",
        "n=T.index(\"cat\")\n",
        "n+1"
      ],
      "metadata": {
        "colab": {
          "base_uri": "https://localhost:8080/"
        },
        "id": "RGEJrB7G_Vx2",
        "outputId": "5f39000d-2431-490f-951a-e72680e52a6a"
      },
      "execution_count": 22,
      "outputs": [
        {
          "output_type": "execute_result",
          "data": {
            "text/plain": [
              "2"
            ]
          },
          "metadata": {},
          "execution_count": 22
        }
      ]
    },
    {
      "cell_type": "markdown",
      "source": [
        "Q15. Write a code to check if the element \"banana\" is in the tuple ('apple', 'orange', 'banana')."
      ],
      "metadata": {
        "id": "MctS61Ta_tVX"
      }
    },
    {
      "cell_type": "code",
      "source": [
        "T=('apple','orange','banana')\n",
        "if \"banana\" in T:\n",
        "  print(\"Banana is in the tuple.\")\n",
        "else:\n",
        "  print(\"Banana is not in the tuple.\")"
      ],
      "metadata": {
        "colab": {
          "base_uri": "https://localhost:8080/"
        },
        "id": "6ZadhL33_yfC",
        "outputId": "0257902f-0e28-4ae3-9f45-a5a98b441175"
      },
      "execution_count": 23,
      "outputs": [
        {
          "output_type": "stream",
          "name": "stdout",
          "text": [
            "Banana is in the tuple.\n"
          ]
        }
      ]
    },
    {
      "cell_type": "markdown",
      "source": [
        "Q16. Write a code to create a set with the elements 1, 2, 3, 4, 5 and print it"
      ],
      "metadata": {
        "id": "pgSfi5FfAIsQ"
      }
    },
    {
      "cell_type": "code",
      "source": [
        "s={1,2,3,4,5}\n",
        "print(s)\n",
        "print(\"The above is\",type(s))"
      ],
      "metadata": {
        "colab": {
          "base_uri": "https://localhost:8080/"
        },
        "id": "zEteLXxsAWBm",
        "outputId": "9d63dd66-abff-438a-98b5-72bef09aa212"
      },
      "execution_count": 24,
      "outputs": [
        {
          "output_type": "stream",
          "name": "stdout",
          "text": [
            "{1, 2, 3, 4, 5}\n",
            "The above is <class 'set'>\n"
          ]
        }
      ]
    },
    {
      "cell_type": "markdown",
      "source": [
        "Q17. Write a code to add the element 6 to the set {1, 2, 3, 4}."
      ],
      "metadata": {
        "id": "l7VUX7qMAkjE"
      }
    },
    {
      "cell_type": "code",
      "source": [
        "s={1,2,3,4}\n",
        "s.add(6)\n",
        "s"
      ],
      "metadata": {
        "colab": {
          "base_uri": "https://localhost:8080/"
        },
        "id": "tsQ1oabwAq_i",
        "outputId": "6fbe485a-8cb8-45a1-a931-2d1948724d79"
      },
      "execution_count": 25,
      "outputs": [
        {
          "output_type": "execute_result",
          "data": {
            "text/plain": [
              "{1, 2, 3, 4, 6}"
            ]
          },
          "metadata": {},
          "execution_count": 25
        }
      ]
    },
    {
      "cell_type": "markdown",
      "source": [
        "Q18. Write a code to create a tuple with the elements 10, 20, 30 and print it."
      ],
      "metadata": {
        "id": "EDMxfv32Avrp"
      }
    },
    {
      "cell_type": "code",
      "source": [
        "T=(10,20,30)\n",
        "print(T)"
      ],
      "metadata": {
        "colab": {
          "base_uri": "https://localhost:8080/"
        },
        "id": "GqasGqv9A1Kb",
        "outputId": "5e834510-fbad-4ab5-860f-906ed1ea1adb"
      },
      "execution_count": 26,
      "outputs": [
        {
          "output_type": "stream",
          "name": "stdout",
          "text": [
            "(10, 20, 30)\n"
          ]
        }
      ]
    },
    {
      "cell_type": "markdown",
      "source": [
        "Q19.Write a code to access the first element of the tuple ('apple', 'banana', 'cherry')."
      ],
      "metadata": {
        "id": "jd6S8DT_A6P8"
      }
    },
    {
      "cell_type": "code",
      "source": [
        "T=('apple','banana','cherry')\n",
        "t=T[0]\n",
        "t"
      ],
      "metadata": {
        "colab": {
          "base_uri": "https://localhost:8080/",
          "height": 35
        },
        "id": "wPl_VdbgA-Vt",
        "outputId": "0f95b462-788e-4246-a7e5-22917c2db903"
      },
      "execution_count": 27,
      "outputs": [
        {
          "output_type": "execute_result",
          "data": {
            "text/plain": [
              "'apple'"
            ],
            "application/vnd.google.colaboratory.intrinsic+json": {
              "type": "string"
            }
          },
          "metadata": {},
          "execution_count": 27
        }
      ]
    },
    {
      "cell_type": "markdown",
      "source": [
        "Q20.Write a code to count how many times the number 2 appears in the tuple (1, 2, 3, 2, 4, 2)."
      ],
      "metadata": {
        "id": "V181JQLuBH1u"
      }
    },
    {
      "cell_type": "code",
      "source": [
        "T=(1,2,3,2,4,2)\n",
        "n=T.count(2)\n",
        "n"
      ],
      "metadata": {
        "colab": {
          "base_uri": "https://localhost:8080/"
        },
        "id": "fEk3w4WEBLlk",
        "outputId": "9b06e838-432b-4a9d-bfb3-72e5e163be70"
      },
      "execution_count": 28,
      "outputs": [
        {
          "output_type": "execute_result",
          "data": {
            "text/plain": [
              "3"
            ]
          },
          "metadata": {},
          "execution_count": 28
        }
      ]
    },
    {
      "cell_type": "markdown",
      "source": [
        "Q21. Write a code to find the index of the element \"cat\" in the tuple ('dog', 'cat', 'rabbit')."
      ],
      "metadata": {
        "id": "i66J35_vBQJe"
      }
    },
    {
      "cell_type": "code",
      "source": [
        "T=('dog','cat','rabbit')\n",
        "n=T.index(\"cat\")\n",
        "n"
      ],
      "metadata": {
        "colab": {
          "base_uri": "https://localhost:8080/"
        },
        "id": "09wyWwQBBTk-",
        "outputId": "fb23d53e-e4ae-4eec-997b-d7144ce3deb8"
      },
      "execution_count": 30,
      "outputs": [
        {
          "output_type": "execute_result",
          "data": {
            "text/plain": [
              "1"
            ]
          },
          "metadata": {},
          "execution_count": 30
        }
      ]
    },
    {
      "cell_type": "markdown",
      "source": [
        "Q22. Write a code to check if the element \"banana\" is in the tuple ('apple', 'orange', 'banana')."
      ],
      "metadata": {
        "id": "iiyya7e1BcIR"
      }
    },
    {
      "cell_type": "code",
      "source": [
        "T=('apple','orange','banana')\n",
        "if \"banana\" in T:\n",
        "  print(\"Banana is in the tuple.\")\n",
        "else:\n",
        "  print(\"Banana is not in the tuple.\")"
      ],
      "metadata": {
        "colab": {
          "base_uri": "https://localhost:8080/"
        },
        "id": "9DUInY4BBgK_",
        "outputId": "71a76c3f-1e8f-4edc-bdb0-5581744ab82e"
      },
      "execution_count": 31,
      "outputs": [
        {
          "output_type": "stream",
          "name": "stdout",
          "text": [
            "Banana is in the tuple.\n"
          ]
        }
      ]
    },
    {
      "cell_type": "markdown",
      "source": [
        "Q23. Write a code to create a set with the elements 1, 2, 3, 4, 5 and print it."
      ],
      "metadata": {
        "id": "SOC1ycIDBlqu"
      }
    },
    {
      "cell_type": "code",
      "source": [
        "s={1,2,3,4,5}\n",
        "print(s)\n",
        "print(\"The above is\",type(s))"
      ],
      "metadata": {
        "colab": {
          "base_uri": "https://localhost:8080/"
        },
        "id": "j2D8jLtOBpxc",
        "outputId": "dc8f6ade-9b30-4042-b8ec-3cfbaa0e02b3"
      },
      "execution_count": 32,
      "outputs": [
        {
          "output_type": "stream",
          "name": "stdout",
          "text": [
            "{1, 2, 3, 4, 5}\n",
            "The above is <class 'set'>\n"
          ]
        }
      ]
    },
    {
      "cell_type": "markdown",
      "source": [
        "Q24. Write a code to add the element 6 to the set {1, 2, 3, 4}."
      ],
      "metadata": {
        "id": "fHp_LhLuBueQ"
      }
    },
    {
      "cell_type": "code",
      "source": [
        "s={1,2,3,4}\n",
        "s.add(6)\n",
        "s"
      ],
      "metadata": {
        "colab": {
          "base_uri": "https://localhost:8080/"
        },
        "id": "_AEw-p_XBxfO",
        "outputId": "93f650f2-951d-41f1-d294-5927955ee9d9"
      },
      "execution_count": 33,
      "outputs": [
        {
          "output_type": "execute_result",
          "data": {
            "text/plain": [
              "{1, 2, 3, 4, 6}"
            ]
          },
          "metadata": {},
          "execution_count": 33
        }
      ]
    }
  ]
}